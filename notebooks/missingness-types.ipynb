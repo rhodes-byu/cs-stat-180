{
 "cells": [
  {
   "cell_type": "code",
   "execution_count": null,
   "id": "06df5b04",
   "metadata": {},
   "outputs": [],
   "source": [
    "<a href=\"https://colab.research.google.com/github/rhodes-byu/cs-stat-180/blob/main/notebooks/missingness-types.ipynb\" target=\"_parent\"><img src=\"https://colab.research.google.com/assets/colab-badge.svg\" alt=\"Open In Colab\"/></a><p><b>After clicking the \"Open in Colab\" link, copy the notebook to your own Google Drive before getting started, or it will not save your work</b></p>"
   ]
  },
  {
   "cell_type": "markdown",
   "id": "6efd9c13",
   "metadata": {
    "id": "6efd9c13"
   },
   "source": [
    "# 📊 Tutorial: Understanding Data Missingness\n",
    "\n",
    "This notebook introduces the three classic missingness mechanisms—**MCAR**, **MAR**, and **MNAR**—with small synthetic examples and visuals. Run the cells top-to-bottom."
   ]
  },
  {
   "cell_type": "markdown",
   "id": "112eb648",
   "metadata": {
    "id": "112eb648"
   },
   "source": [
    "## 0) Setup & Synthetic Dataset"
   ]
  },
  {
   "cell_type": "code",
   "execution_count": null,
   "id": "46106156",
   "metadata": {
    "colab": {
     "base_uri": "https://localhost:8080/",
     "height": 363
    },
    "executionInfo": {
     "elapsed": 622,
     "status": "ok",
     "timestamp": 1759178459777,
     "user": {
      "displayName": "Scott Toborg",
      "userId": "05377328899477023797"
     },
     "user_tz": 360
    },
    "id": "46106156",
    "outputId": "14db8189-36a6-4f59-8822-688d397c2c63"
   },
   "outputs": [],
   "source": [
    "import numpy as np\n",
    "import pandas as pd\n",
    "import matplotlib.pyplot as plt\n",
    "\n",
    "np.random.seed(42)\n",
    "data = pd.DataFrame({\n",
    "    'PatientID': range(1, 11),\n",
    "    'Age': np.random.randint(20, 70, 10),\n",
    "    'Weight': np.random.randint(50, 100, 10),\n",
    "    'Cholesterol': np.random.randint(150, 300, 10)\n",
    "})\n",
    "\n",
    "data"
   ]
  },
  {
   "cell_type": "markdown",
   "id": "e51d3efd",
   "metadata": {
    "id": "e51d3efd"
   },
   "source": [
    "---\n",
    "## 1) MCAR — Missing Completely at Random\n",
    "**Definition:** Missingness is independent of any observed/unobserved values.\n",
    "\n",
    "**Example:** Random logging glitches cause some *Cholesterol* values to be missing."
   ]
  },
  {
   "cell_type": "code",
   "execution_count": null,
   "id": "608bb0c8",
   "metadata": {
    "colab": {
     "base_uri": "https://localhost:8080/",
     "height": 363
    },
    "executionInfo": {
     "elapsed": 11,
     "status": "ok",
     "timestamp": 1759178470152,
     "user": {
      "displayName": "Scott Toborg",
      "userId": "05377328899477023797"
     },
     "user_tz": 360
    },
    "id": "608bb0c8",
    "outputId": "5d13c83f-0fcd-48e5-8749-a95dbc5d9ea1"
   },
   "outputs": [],
   "source": [
    "mcar = data.copy()\n",
    "mcar.loc[np.random.choice(mcar.index, 3, replace=False), 'Cholesterol'] = np.nan\n",
    "mcar"
   ]
  },
  {
   "cell_type": "markdown",
   "id": "2f44acac",
   "metadata": {
    "id": "2f44acac"
   },
   "source": [
    "---\n",
    "## 2) MAR — Missing at Random\n",
    "**Definition:** Missingness depends on observed data, not on the missing value itself.\n",
    "\n",
    "**Example:** Younger patients (Age < 35) are less likely to get *Cholesterol* measured."
   ]
  },
  {
   "cell_type": "code",
   "execution_count": null,
   "id": "edafaa2f",
   "metadata": {
    "colab": {
     "base_uri": "https://localhost:8080/",
     "height": 363
    },
    "executionInfo": {
     "elapsed": 21,
     "status": "ok",
     "timestamp": 1759178480390,
     "user": {
      "displayName": "Scott Toborg",
      "userId": "05377328899477023797"
     },
     "user_tz": 360
    },
    "id": "edafaa2f",
    "outputId": "35966f8e-0080-4a8d-e7e6-e43e20acc035"
   },
   "outputs": [],
   "source": [
    "mar = data.copy()\n",
    "mar.loc[mar['Age'] < 35, 'Cholesterol'] = np.nan\n",
    "mar"
   ]
  },
  {
   "cell_type": "markdown",
   "id": "350cb82c",
   "metadata": {
    "id": "350cb82c"
   },
   "source": [
    "---\n",
    "## 3) MNAR — Missing Not at Random\n",
    "**Definition:** Missingness depends on the value itself, even after conditioning on observed data.\n",
    "\n",
    "**Example:** Patients with *very high* cholesterol avoid reporting it."
   ]
  },
  {
   "cell_type": "code",
   "execution_count": null,
   "id": "e9a7b199",
   "metadata": {
    "colab": {
     "base_uri": "https://localhost:8080/",
     "height": 363
    },
    "executionInfo": {
     "elapsed": 86,
     "status": "ok",
     "timestamp": 1759178500145,
     "user": {
      "displayName": "Scott Toborg",
      "userId": "05377328899477023797"
     },
     "user_tz": 360
    },
    "id": "e9a7b199",
    "outputId": "0c878dee-1858-45b6-bfad-d61d31397e79"
   },
   "outputs": [],
   "source": [
    "mnar = data.copy()\n",
    "mnar.loc[mnar['Cholesterol'] > 250, 'Cholesterol'] = np.nan\n",
    "mnar"
   ]
  },
  {
   "cell_type": "markdown",
   "id": "49caaafb",
   "metadata": {
    "id": "49caaafb"
   },
   "source": [
    "---\n",
    "## 4) Visual Intuition\n",
    "Each plot shows **Age** vs **Cholesterol**. Missing points are shown as **X** markers at random y-positions so you can see where values are missing on the x-axis."
   ]
  },
  {
   "cell_type": "code",
   "execution_count": null,
   "id": "f6182671",
   "metadata": {
    "colab": {
     "base_uri": "https://localhost:8080/",
     "height": 1000
    },
    "executionInfo": {
     "elapsed": 611,
     "status": "ok",
     "timestamp": 1759178534883,
     "user": {
      "displayName": "Scott Toborg",
      "userId": "05377328899477023797"
     },
     "user_tz": 360
    },
    "id": "f6182671",
    "outputId": "4dd149ce-de6f-4441-d958-48d8e54aba0a"
   },
   "outputs": [],
   "source": [
    "# Helper to plot one dataset\n",
    "def plot_missing(df, title):\n",
    "    plt.figure(figsize=(6,4))\n",
    "    # Observed values\n",
    "    obs = df.dropna(subset=['Cholesterol'])\n",
    "    plt.scatter(obs['Age'], obs['Cholesterol'], s=60, label='Observed')\n",
    "    # Missing values (placed at random y for visibility)\n",
    "    miss_mask = df['Cholesterol'].isna()\n",
    "    if miss_mask.any():\n",
    "        y_fake = np.random.uniform(150, 300, miss_mask.sum())\n",
    "        plt.scatter(df.loc[miss_mask, 'Age'], y_fake, marker='x', s=100, label='Missing (y shown randomly)')\n",
    "    plt.title(title)\n",
    "    plt.xlabel('Age')\n",
    "    plt.ylabel('Cholesterol')\n",
    "    plt.legend()\n",
    "    plt.show()\n",
    "\n",
    "plot_missing(mcar, 'MCAR (random)')\n",
    "plot_missing(mar, 'MAR (depends on Age)')\n",
    "plot_missing(mnar, 'MNAR (depends on Cholesterol)')\n"
   ]
  },
  {
   "cell_type": "markdown",
   "id": "e5df9576",
   "metadata": {
    "id": "e5df9576"
   },
   "source": [
    "---\n",
    "## 5) How Missingness Affects Simple Estimates\n",
    "We compare the **mean Cholesterol** under each mechanism when we:\n",
    "1. Use the full data mean (ground truth from the original complete data),\n",
    "2. Use the observed-only mean after missingness (listwise deletion).\n",
    "\n",
    "Observe how **MCAR** preserves unbiasedness (on average), while **MAR/MNAR** can introduce bias."
   ]
  },
  {
   "cell_type": "code",
   "execution_count": null,
   "id": "bd9ec3b3",
   "metadata": {
    "colab": {
     "base_uri": "https://localhost:8080/",
     "height": 143
    },
    "executionInfo": {
     "elapsed": 75,
     "status": "ok",
     "timestamp": 1759178615081,
     "user": {
      "displayName": "Scott Toborg",
      "userId": "05377328899477023797"
     },
     "user_tz": 360
    },
    "id": "bd9ec3b3",
    "outputId": "b7539767-f5eb-4f4e-f280-881a54eddd2b"
   },
   "outputs": [],
   "source": [
    "def summary_means(df_complete, df_with_missing, label):\n",
    "    baseline = df_complete['Cholesterol'].mean()\n",
    "    observed = df_with_missing['Cholesterol'].mean(skipna=True)\n",
    "    return {\n",
    "        'Scenario': label,\n",
    "        'Full-data mean': round(float(baseline), 2),\n",
    "        'Observed-only mean': round(float(observed), 2)\n",
    "    }\n",
    "\n",
    "rows = [\n",
    "    summary_means(data, mcar, 'MCAR'),\n",
    "    summary_means(data, mar, 'MAR'),\n",
    "    summary_means(data, mnar, 'MNAR')\n",
    "]\n",
    "pd.DataFrame(rows)"
   ]
  },
  {
   "cell_type": "markdown",
   "id": "13554aa6",
   "metadata": {
    "id": "13554aa6"
   },
   "source": [
    "---\n",
    "## 6) Key Takeaways\n",
    "- **MCAR**: Safe to drop missing rows (unbiased but less efficient).\n",
    "- **MAR**: Adjust for the observed predictors of missingness (e.g., include Age), or use multiple imputation.\n",
    "- **MNAR**: Requires modeling the missingness mechanism or collecting additional information.\n",
    "\n",
    "💡 Tip: In practice, use diagnostic plots and sensitivity analyses to evaluate assumptions."
   ]
  }
 ],
 "metadata": {
  "colab": {
   "provenance": []
  },
  "kernelspec": {
   "display_name": "Python 3",
   "name": "python3"
  },
  "language_info": {
   "name": "python"
  }
 },
 "nbformat": 4,
 "nbformat_minor": 5
}
