{
  "cells": [
    {
      "cell_type": "markdown",
      "metadata": {},
      "source": [
        "<a href=\"https://colab.research.google.com/github/rhodes-byu/cs180-winter25/blob/main/notebooks/06b-eda-penguins.ipynb\" target=\"_parent\"><img src=\"https://colab.research.google.com/assets/colab-badge.svg\" alt=\"Open In Colab\"/></a><p><b>After clicking the \"Open in Colab\" link, copy the notebook to your own Google Drive before getting started, or it will not save your work</b></p>"
      ]
    },
    {
      "cell_type": "markdown",
      "metadata": {
        "id": "ySJFLYMR3fQd"
      },
      "source": [
        "# Palmer Penguins Dataset: Overview\n",
        "\n",
        "The Palmer Penguins dataset contains data about three species of penguins observed in the Palmer Archipelago, Antarctica. The dataset was collected by Dr. Kristen Gorman and the Palmer Station LTER (Long Term Ecological Research) Program. It serves as a popular alternative to the Iris dataset for data exploration, statistical analysis, and machine learning practice due to its richer set of features and categorical variables.\n",
        "\n",
        "Objective:\n",
        "\n",
        "The primary goal of working with the Palmer Penguins dataset is to explore relationships between penguin species and their physical characteristics, as well as to perform classification tasks, such as predicting the species of a penguin based on measurable features. The dataset also offers an opportunity to practice data cleaning and handling missing values, as there are some missing entries.\n",
        "\n",
        "Dataset Features:\n",
        "\n",
        "The dataset consists of 344 rows and 7 columns. The columns are:\n",
        "\n",
        "\t1.\tspecies: Categorical feature indicating the penguin species (Adélie, Chinstrap, Gentoo).\n",
        "\t2.\tisland: Categorical feature representing the island where the penguin was observed (Biscoe, Dream, Torgersen).\n",
        "\t3.\tbill_length_mm: Continuous numerical feature representing the length of the penguin’s bill (in millimeters).\n",
        "\t4.\tbill_depth_mm: Continuous numerical feature representing the depth of the penguin’s bill (in millimeters).\n",
        "\t5.\tflipper_length_mm: Continuous numerical feature representing the penguin’s flipper length (in millimeters).\n",
        "\t6.\tbody_mass_g: Continuous numerical feature representing the penguin’s body mass (in grams).\n",
        "\t7.\tsex: Categorical feature indicating the penguin’s sex (male or female), though some entries are missing.\n"
      ]
    },
    {
      "cell_type": "markdown",
      "metadata": {
        "id": "fkxc3wPW1hjR"
      },
      "source": [
        "## As you work through the below steps, keep track of (write down) any questions that come to mind. Seek to answer these questions using the data!\n",
        "\n",
        "1.\tUnderstand the Data:\n",
        "\t* The dataset is loaded from seaborn.\n",
        "\t* First few rows and data types are printed.\n",
        "\t* Missing values are checked.\n",
        "2.\tDetect and Address Outliers and Missing Values:\n",
        "\t* Visualizing missing values using a heatmap.\n",
        "  * Boxplots for detecting potential outliers.\n",
        "\t* Decide whether to drop or impute missing values.\n",
        "3.\tDescribe Shape of Data using Univariate Analysis:\n",
        "\t* Histograms for numerical variables to check distributions.\n",
        "\t* Count plots for categorical variables like species.\n",
        "4.\tIdentify Feature Relationships using Bivariate Analysis:\n",
        "\t* Scatter plots and pair plots to visualize relationships between numerical variables and categories.\n",
        "\t* Correlation matrix heatmap to examine the relationships between numerical variables.\n",
        "5.\tMultivariate Analysis:\n",
        "\t* Grouping box plots to compare flipper lengths across species and gender.\n",
        "6.  What other questions come to mind? "
      ]
    },
    {
      "cell_type": "code",
      "execution_count": null,
      "metadata": {
        "colab": {
          "base_uri": "https://localhost:8080/",
          "height": 423
        },
        "id": "c8a0aoAJ1Kmf",
        "outputId": "2eb28ab5-3e15-445c-dfdb-c7bb2a64c2bf"
      },
      "outputs": [],
      "source": [
        "# Importing necessary libraries\n",
        "import pandas as pd\n",
        "import seaborn as sns\n",
        "import matplotlib.pyplot as plt\n",
        "\n",
        "# Load the Palmer Penguins dataset from seaborn\n",
        "penguins = sns.load_dataset('penguins')"
      ]
    }
  ],
  "metadata": {
    "colab": {
      "provenance": []
    },
    "kernelspec": {
      "display_name": "base",
      "language": "python",
      "name": "python3"
    },
    "language_info": {
      "codemirror_mode": {
        "name": "ipython",
        "version": 3
      },
      "file_extension": ".py",
      "mimetype": "text/x-python",
      "name": "python",
      "nbconvert_exporter": "python",
      "pygments_lexer": "ipython3",
      "version": "3.11.4"
    }
  },
  "nbformat": 4,
  "nbformat_minor": 0
}
